{
 "cells": [
  {
   "cell_type": "code",
   "execution_count": 2,
   "metadata": {},
   "outputs": [
    {
     "name": "stdout",
     "output_type": "stream",
     "text": [
      "Merged dataset saved to merged_jakarta_2021_2024.csv\n"
     ]
    }
   ],
   "source": [
    "import pandas as pd\n",
    "\n",
    "# File paths for the datasets\n",
    "file1_path = \"combined_data_2021_2024.csv\"\n",
    "file2_path = \"filtered_combined_jakarta_2021_2024.csv\"\n",
    "\n",
    "# Load both datasets\n",
    "df1 = pd.read_csv(file1_path)\n",
    "df2 = pd.read_csv(file2_path)\n",
    "\n",
    "# Merge datasets on 'time' column\n",
    "merged_df = pd.merge(df1, df2, on=\"time\", how=\"inner\")\n",
    "\n",
    "# Save the merged dataset\n",
    "output_path = \"merged_jakarta_2021_2024.csv\"\n",
    "merged_df.to_csv(output_path, index=False)\n",
    "\n",
    "print(f\"Merged dataset saved to {output_path}\")\n"
   ]
  },
  {
   "cell_type": "code",
   "execution_count": 4,
   "metadata": {},
   "outputs": [
    {
     "name": "stdout",
     "output_type": "stream",
     "text": [
      "Preprocessed dataset saved to dataset_final.csv\n"
     ]
    }
   ],
   "source": [
    "import pandas as pd\n",
    "from sklearn.preprocessing import LabelEncoder, MinMaxScaler\n",
    "\n",
    "# Load the dataset\n",
    "file_path = \"merged_jakarta_2021_2024.csv\"\n",
    "df = pd.read_csv(file_path)\n",
    "\n",
    "# Data Preprocessing\n",
    "# reorder kategori\n",
    "cols = list(df.columns)\n",
    "\n",
    "# Remove 'kategori' from its current position and append it to the end\n",
    "if 'kategori' in cols:\n",
    "    cols.remove('kategori')\n",
    "    cols.append('kategori')\n",
    "\n",
    "# Reorder the DataFrame columns\n",
    "df = df[cols]\n",
    "# Remove duplicate rows\n",
    "df = df.drop_duplicates()\n",
    "\n",
    "# Handle missing values by filling them with the median (numeric columns)\n",
    "df.fillna(df.median(numeric_only=True), inplace=True)\n",
    "\n",
    "# Label encoding for string columns (excluding 'time')\n",
    "le = LabelEncoder()\n",
    "for col in df.select_dtypes(include='object').columns:\n",
    "    if col != 'time':\n",
    "        df[col] = le.fit_transform(df[col])\n",
    "\n",
    "# Remove the 'time' column\n",
    "if 'time' in df.columns:\n",
    "    df.drop(columns=['time'], inplace=True)\n",
    "\n",
    "# Normalization using MinMaxScaler\n",
    "scaler = MinMaxScaler()\n",
    "# Apply normalization to all columns (since after label encoding all remaining columns are numeric)\n",
    "df[df.columns] = scaler.fit_transform(df[df.columns])\n",
    "\n",
    "# Save the cleaned and preprocessed dataset\n",
    "output_path = \"dataset_final.csv\"\n",
    "df.to_csv(output_path, index=False)\n",
    "\n",
    "print(f\"Preprocessed dataset saved to {output_path}\")\n"
   ]
  },
  {
   "cell_type": "code",
   "execution_count": null,
   "metadata": {},
   "outputs": [],
   "source": []
  }
 ],
 "metadata": {
  "kernelspec": {
   "display_name": "Python 3",
   "language": "python",
   "name": "python3"
  },
  "language_info": {
   "codemirror_mode": {
    "name": "ipython",
    "version": 3
   },
   "file_extension": ".py",
   "mimetype": "text/x-python",
   "name": "python",
   "nbconvert_exporter": "python",
   "pygments_lexer": "ipython3",
   "version": "3.7.6"
  }
 },
 "nbformat": 4,
 "nbformat_minor": 2
}
